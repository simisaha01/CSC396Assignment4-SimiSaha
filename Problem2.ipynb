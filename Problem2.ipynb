{
 "cells": [
  {
   "cell_type": "markdown",
   "id": "70089b5b",
   "metadata": {},
   "source": [
    "# Using Pre-trained Word Embeddings\n",
    "\n",
    "In this notebook we will show some operations on pre-trained word embeddings to gain an intuition about them.\n",
    "\n",
    "We will be using the pre-trained GloVe embeddings that can be found in the [official website](https://nlp.stanford.edu/projects/glove/). In particular, we will use the file `glove.6B.300d.txt` contained in this [zip file](https://nlp.stanford.edu/data/glove.6B.zip).\n",
    "\n",
    "We will first load the GloVe embeddings using [Gensim](https://radimrehurek.com/gensim/). Specifically, we will use [`KeyedVectors`](https://radimrehurek.com/gensim/models/keyedvectors.html)'s [`load_word2vec_format()`](https://radimrehurek.com/gensim/models/keyedvectors.html#gensim.models.keyedvectors.KeyedVectors.load_word2vec_format) classmethod, which supports the original word2vec file format.\n",
    "However, there is a difference in the file formats used by GloVe and word2vec, which is a header used by word2vec to indicate the number of embeddings and dimensions stored in the file. The file that stores the GloVe embeddings doesn't have this header, so we will have to address that when loading the embeddings.\n",
    "\n",
    "Loading the embeddings may take a little bit, so hang in there!"
   ]
  },
  {
   "cell_type": "code",
   "execution_count": 4,
   "id": "31adf8d7",
   "metadata": {},
   "outputs": [
    {
     "ename": "ModuleNotFoundError",
     "evalue": "No module named 'gensim'",
     "output_type": "error",
     "traceback": [
      "\u001b[0;31m---------------------------------------------------------------------------\u001b[0m",
      "\u001b[0;31mModuleNotFoundError\u001b[0m                       Traceback (most recent call last)",
      "Cell \u001b[0;32mIn[4], line 1\u001b[0m\n\u001b[0;32m----> 1\u001b[0m \u001b[38;5;28;01mfrom\u001b[39;00m \u001b[38;5;21;01mgensim\u001b[39;00m\u001b[38;5;21;01m.\u001b[39;00m\u001b[38;5;21;01mmodels\u001b[39;00m \u001b[38;5;28;01mimport\u001b[39;00m KeyedVectors\n\u001b[1;32m      3\u001b[0m fname \u001b[38;5;241m=\u001b[39m \u001b[38;5;124m\"\u001b[39m\u001b[38;5;124mglove.6B.300d-vocabulary.txt\u001b[39m\u001b[38;5;124m\"\u001b[39m\n\u001b[1;32m      4\u001b[0m glove \u001b[38;5;241m=\u001b[39m KeyedVectors\u001b[38;5;241m.\u001b[39mload_word2vec_format(fname, no_header\u001b[38;5;241m=\u001b[39m\u001b[38;5;28;01mTrue\u001b[39;00m)\n",
      "\u001b[0;31mModuleNotFoundError\u001b[0m: No module named 'gensim'"
     ]
    }
   ],
   "source": [
    "from gensim.models import KeyedVectors\n",
    "\n",
    "fname = \"glove.6B.300d-vocabulary.txt\"\n",
    "glove = KeyedVectors.load_word2vec_format(fname, no_header=True)\n",
    "glove.vectors.shape"
   ]
  },
  {
   "cell_type": "markdown",
   "id": "c3691c66",
   "metadata": {},
   "source": [
    "## Word similarity\n",
    "\n",
    "One attribute of word embeddings that makes them useful is the ability to compare them using cosine similarity to find how similar they are. [`KeyedVectors`](https://radimrehurek.com/gensim/models/keyedvectors.html) objects provide a method called [`most_similar()`](https://radimrehurek.com/gensim/models/keyedvectors.html#gensim.models.keyedvectors.KeyedVectors.most_similar) that we can use to find the closest words to a particular word of interest. By default, [`most_similar()`](https://radimrehurek.com/gensim/models/keyedvectors.html#gensim.models.keyedvectors.KeyedVectors.most_similar) returns the 10 most similar words, but this can be changed using the `topn` parameter.\n",
    "\n",
    "Below we test this function using a few different words."
   ]
  },
  {
   "cell_type": "code",
   "execution_count": 5,
   "id": "592b5236",
   "metadata": {},
   "outputs": [
    {
     "ename": "NameError",
     "evalue": "name 'glove' is not defined",
     "output_type": "error",
     "traceback": [
      "\u001b[0;31m---------------------------------------------------------------------------\u001b[0m",
      "\u001b[0;31mNameError\u001b[0m                                 Traceback (most recent call last)",
      "Cell \u001b[0;32mIn[5], line 2\u001b[0m\n\u001b[1;32m      1\u001b[0m \u001b[38;5;66;03m# common noun\u001b[39;00m\n\u001b[0;32m----> 2\u001b[0m \u001b[43mglove\u001b[49m\u001b[38;5;241m.\u001b[39mmost_similar(\u001b[38;5;124m\"\u001b[39m\u001b[38;5;124mcactus\u001b[39m\u001b[38;5;124m\"\u001b[39m)\n",
      "\u001b[0;31mNameError\u001b[0m: name 'glove' is not defined"
     ]
    }
   ],
   "source": [
    "# common noun\n",
    "glove.most_similar(\"cactus\")"
   ]
  },
  {
   "cell_type": "code",
   "execution_count": 6,
   "id": "d9c5ded2",
   "metadata": {},
   "outputs": [
    {
     "ename": "NameError",
     "evalue": "name 'glove' is not defined",
     "output_type": "error",
     "traceback": [
      "\u001b[0;31m---------------------------------------------------------------------------\u001b[0m",
      "\u001b[0;31mNameError\u001b[0m                                 Traceback (most recent call last)",
      "Cell \u001b[0;32mIn[6], line 2\u001b[0m\n\u001b[1;32m      1\u001b[0m \u001b[38;5;66;03m# common noun\u001b[39;00m\n\u001b[0;32m----> 2\u001b[0m \u001b[43mglove\u001b[49m\u001b[38;5;241m.\u001b[39mmost_similar(\u001b[38;5;124m\"\u001b[39m\u001b[38;5;124mcake\u001b[39m\u001b[38;5;124m\"\u001b[39m)\n",
      "\u001b[0;31mNameError\u001b[0m: name 'glove' is not defined"
     ]
    }
   ],
   "source": [
    "# common noun\n",
    "glove.most_similar(\"cake\")"
   ]
  },
  {
   "cell_type": "code",
   "execution_count": 7,
   "id": "ca890ec7",
   "metadata": {},
   "outputs": [
    {
     "ename": "NameError",
     "evalue": "name 'glove' is not defined",
     "output_type": "error",
     "traceback": [
      "\u001b[0;31m---------------------------------------------------------------------------\u001b[0m",
      "\u001b[0;31mNameError\u001b[0m                                 Traceback (most recent call last)",
      "Cell \u001b[0;32mIn[7], line 2\u001b[0m\n\u001b[1;32m      1\u001b[0m \u001b[38;5;66;03m# adjective\u001b[39;00m\n\u001b[0;32m----> 2\u001b[0m \u001b[43mglove\u001b[49m\u001b[38;5;241m.\u001b[39mmost_similar(\u001b[38;5;124m\"\u001b[39m\u001b[38;5;124mangry\u001b[39m\u001b[38;5;124m\"\u001b[39m)\n",
      "\u001b[0;31mNameError\u001b[0m: name 'glove' is not defined"
     ]
    }
   ],
   "source": [
    "# adjective\n",
    "glove.most_similar(\"angry\")"
   ]
  },
  {
   "cell_type": "code",
   "execution_count": 8,
   "id": "6a297340",
   "metadata": {},
   "outputs": [
    {
     "ename": "NameError",
     "evalue": "name 'glove' is not defined",
     "output_type": "error",
     "traceback": [
      "\u001b[0;31m---------------------------------------------------------------------------\u001b[0m",
      "\u001b[0;31mNameError\u001b[0m                                 Traceback (most recent call last)",
      "Cell \u001b[0;32mIn[8], line 2\u001b[0m\n\u001b[1;32m      1\u001b[0m \u001b[38;5;66;03m# adverb\u001b[39;00m\n\u001b[0;32m----> 2\u001b[0m \u001b[43mglove\u001b[49m\u001b[38;5;241m.\u001b[39mmost_similar(\u001b[38;5;124m\"\u001b[39m\u001b[38;5;124mquickly\u001b[39m\u001b[38;5;124m\"\u001b[39m)\n",
      "\u001b[0;31mNameError\u001b[0m: name 'glove' is not defined"
     ]
    }
   ],
   "source": [
    "# adverb\n",
    "glove.most_similar(\"quickly\")"
   ]
  },
  {
   "cell_type": "code",
   "execution_count": 9,
   "id": "33dfe403",
   "metadata": {},
   "outputs": [
    {
     "ename": "NameError",
     "evalue": "name 'glove' is not defined",
     "output_type": "error",
     "traceback": [
      "\u001b[0;31m---------------------------------------------------------------------------\u001b[0m",
      "\u001b[0;31mNameError\u001b[0m                                 Traceback (most recent call last)",
      "Cell \u001b[0;32mIn[9], line 2\u001b[0m\n\u001b[1;32m      1\u001b[0m \u001b[38;5;66;03m# preposition\u001b[39;00m\n\u001b[0;32m----> 2\u001b[0m \u001b[43mglove\u001b[49m\u001b[38;5;241m.\u001b[39mmost_similar(\u001b[38;5;124m\"\u001b[39m\u001b[38;5;124mbetween\u001b[39m\u001b[38;5;124m\"\u001b[39m)\n",
      "\u001b[0;31mNameError\u001b[0m: name 'glove' is not defined"
     ]
    }
   ],
   "source": [
    "# preposition\n",
    "glove.most_similar(\"between\")"
   ]
  },
  {
   "cell_type": "code",
   "execution_count": 10,
   "id": "1919d8b1",
   "metadata": {},
   "outputs": [
    {
     "ename": "NameError",
     "evalue": "name 'glove' is not defined",
     "output_type": "error",
     "traceback": [
      "\u001b[0;31m---------------------------------------------------------------------------\u001b[0m",
      "\u001b[0;31mNameError\u001b[0m                                 Traceback (most recent call last)",
      "Cell \u001b[0;32mIn[10], line 2\u001b[0m\n\u001b[1;32m      1\u001b[0m \u001b[38;5;66;03m# determiner\u001b[39;00m\n\u001b[0;32m----> 2\u001b[0m \u001b[43mglove\u001b[49m\u001b[38;5;241m.\u001b[39mmost_similar(\u001b[38;5;124m\"\u001b[39m\u001b[38;5;124mthe\u001b[39m\u001b[38;5;124m\"\u001b[39m)\n",
      "\u001b[0;31mNameError\u001b[0m: name 'glove' is not defined"
     ]
    }
   ],
   "source": [
    "# determiner\n",
    "glove.most_similar(\"the\")"
   ]
  },
  {
   "cell_type": "markdown",
   "id": "f0ef3da4",
   "metadata": {},
   "source": [
    "## Word analogies\n",
    "\n",
    "Another characteristic of word embeddings is their ability to solve analogy problems.\n",
    "The same [`most_similar()`](https://radimrehurek.com/gensim/models/keyedvectors.html#gensim.models.keyedvectors.KeyedVectors.most_similar) method can be used for this task, by passing two lists of words:\n",
    "a `positive` list with the words that should be added and a `negative` list with the words that should be subtracted. Using these arguments, the famous example $\\vec{king} - \\vec{man} + \\vec{woman} \\approx \\vec{queen}$ can be executed as follows:"
   ]
  },
  {
   "cell_type": "code",
   "execution_count": 11,
   "id": "4badb9ae",
   "metadata": {},
   "outputs": [
    {
     "ename": "NameError",
     "evalue": "name 'glove' is not defined",
     "output_type": "error",
     "traceback": [
      "\u001b[0;31m---------------------------------------------------------------------------\u001b[0m",
      "\u001b[0;31mNameError\u001b[0m                                 Traceback (most recent call last)",
      "Cell \u001b[0;32mIn[11], line 2\u001b[0m\n\u001b[1;32m      1\u001b[0m \u001b[38;5;66;03m# king - man + woman\u001b[39;00m\n\u001b[0;32m----> 2\u001b[0m \u001b[43mglove\u001b[49m\u001b[38;5;241m.\u001b[39mmost_similar(positive\u001b[38;5;241m=\u001b[39m[\u001b[38;5;124m\"\u001b[39m\u001b[38;5;124mking\u001b[39m\u001b[38;5;124m\"\u001b[39m, \u001b[38;5;124m\"\u001b[39m\u001b[38;5;124mwoman\u001b[39m\u001b[38;5;124m\"\u001b[39m], negative\u001b[38;5;241m=\u001b[39m[\u001b[38;5;124m\"\u001b[39m\u001b[38;5;124mman\u001b[39m\u001b[38;5;124m\"\u001b[39m])\n",
      "\u001b[0;31mNameError\u001b[0m: name 'glove' is not defined"
     ]
    }
   ],
   "source": [
    "# king - man + woman\n",
    "glove.most_similar(positive=[\"king\", \"woman\"], negative=[\"man\"])"
   ]
  },
  {
   "cell_type": "markdown",
   "id": "e5c5619e",
   "metadata": {},
   "source": [
    "Here are a few other interesting analogies:"
   ]
  },
  {
   "cell_type": "code",
   "execution_count": 12,
   "id": "5b357d34",
   "metadata": {},
   "outputs": [
    {
     "ename": "NameError",
     "evalue": "name 'glove' is not defined",
     "output_type": "error",
     "traceback": [
      "\u001b[0;31m---------------------------------------------------------------------------\u001b[0m",
      "\u001b[0;31mNameError\u001b[0m                                 Traceback (most recent call last)",
      "Cell \u001b[0;32mIn[12], line 2\u001b[0m\n\u001b[1;32m      1\u001b[0m \u001b[38;5;66;03m# car - drive + fly\u001b[39;00m\n\u001b[0;32m----> 2\u001b[0m \u001b[43mglove\u001b[49m\u001b[38;5;241m.\u001b[39mmost_similar(positive\u001b[38;5;241m=\u001b[39m[\u001b[38;5;124m\"\u001b[39m\u001b[38;5;124mcar\u001b[39m\u001b[38;5;124m\"\u001b[39m, \u001b[38;5;124m\"\u001b[39m\u001b[38;5;124mfly\u001b[39m\u001b[38;5;124m\"\u001b[39m], negative\u001b[38;5;241m=\u001b[39m[\u001b[38;5;124m\"\u001b[39m\u001b[38;5;124mdrive\u001b[39m\u001b[38;5;124m\"\u001b[39m])\n",
      "\u001b[0;31mNameError\u001b[0m: name 'glove' is not defined"
     ]
    }
   ],
   "source": [
    "# car - drive + fly\n",
    "glove.most_similar(positive=[\"car\", \"fly\"], negative=[\"drive\"])"
   ]
  },
  {
   "cell_type": "code",
   "execution_count": 13,
   "id": "ceed96a3",
   "metadata": {},
   "outputs": [
    {
     "ename": "NameError",
     "evalue": "name 'glove' is not defined",
     "output_type": "error",
     "traceback": [
      "\u001b[0;31m---------------------------------------------------------------------------\u001b[0m",
      "\u001b[0;31mNameError\u001b[0m                                 Traceback (most recent call last)",
      "Cell \u001b[0;32mIn[13], line 2\u001b[0m\n\u001b[1;32m      1\u001b[0m \u001b[38;5;66;03m# berlin - germany + australia\u001b[39;00m\n\u001b[0;32m----> 2\u001b[0m \u001b[43mglove\u001b[49m\u001b[38;5;241m.\u001b[39mmost_similar(positive\u001b[38;5;241m=\u001b[39m[\u001b[38;5;124m\"\u001b[39m\u001b[38;5;124mberlin\u001b[39m\u001b[38;5;124m\"\u001b[39m, \u001b[38;5;124m\"\u001b[39m\u001b[38;5;124maustralia\u001b[39m\u001b[38;5;124m\"\u001b[39m], negative\u001b[38;5;241m=\u001b[39m[\u001b[38;5;124m\"\u001b[39m\u001b[38;5;124mgermany\u001b[39m\u001b[38;5;124m\"\u001b[39m])\n",
      "\u001b[0;31mNameError\u001b[0m: name 'glove' is not defined"
     ]
    }
   ],
   "source": [
    "# berlin - germany + australia\n",
    "glove.most_similar(positive=[\"berlin\", \"australia\"], negative=[\"germany\"])"
   ]
  },
  {
   "cell_type": "code",
   "execution_count": 14,
   "id": "334606b0",
   "metadata": {},
   "outputs": [
    {
     "ename": "NameError",
     "evalue": "name 'glove' is not defined",
     "output_type": "error",
     "traceback": [
      "\u001b[0;31m---------------------------------------------------------------------------\u001b[0m",
      "\u001b[0;31mNameError\u001b[0m                                 Traceback (most recent call last)",
      "Cell \u001b[0;32mIn[14], line 2\u001b[0m\n\u001b[1;32m      1\u001b[0m \u001b[38;5;66;03m# england - london + baghdad\u001b[39;00m\n\u001b[0;32m----> 2\u001b[0m \u001b[43mglove\u001b[49m\u001b[38;5;241m.\u001b[39mmost_similar(positive\u001b[38;5;241m=\u001b[39m[\u001b[38;5;124m\"\u001b[39m\u001b[38;5;124mengland\u001b[39m\u001b[38;5;124m\"\u001b[39m, \u001b[38;5;124m\"\u001b[39m\u001b[38;5;124mbaghdad\u001b[39m\u001b[38;5;124m\"\u001b[39m], negative\u001b[38;5;241m=\u001b[39m[\u001b[38;5;124m\"\u001b[39m\u001b[38;5;124mlondon\u001b[39m\u001b[38;5;124m\"\u001b[39m])\n",
      "\u001b[0;31mNameError\u001b[0m: name 'glove' is not defined"
     ]
    }
   ],
   "source": [
    "# england - london + baghdad\n",
    "glove.most_similar(positive=[\"england\", \"baghdad\"], negative=[\"london\"])"
   ]
  },
  {
   "cell_type": "code",
   "execution_count": 13,
   "id": "c5d8a5e2",
   "metadata": {},
   "outputs": [
    {
     "data": {
      "text/plain": [
       "[('mexico', 0.5726831555366516),\n",
       " ('philippines', 0.5445368885993958),\n",
       " ('peru', 0.48382261395454407),\n",
       " ('venezuela', 0.4816672205924988),\n",
       " ('brazil', 0.46643102169036865),\n",
       " ('argentina', 0.45490509271621704),\n",
       " ('philippine', 0.4417841136455536),\n",
       " ('chile', 0.43960973620414734),\n",
       " ('colombia', 0.4386259913444519),\n",
       " ('thailand', 0.43396785855293274)]"
      ]
     },
     "execution_count": 13,
     "metadata": {},
     "output_type": "execute_result"
    }
   ],
   "source": [
    "# japan - yen + peso\n",
    "glove.most_similar(positive=[\"japan\", \"peso\"], negative=[\"yen\"])"
   ]
  },
  {
   "cell_type": "code",
   "execution_count": 14,
   "id": "78e0663d",
   "metadata": {},
   "outputs": [
    {
     "data": {
      "text/plain": [
       "[('tallest', 0.5077418684959412),\n",
       " ('taller', 0.47616493701934814),\n",
       " ('height', 0.46000057458877563),\n",
       " ('metres', 0.4584785997867584),\n",
       " ('cm', 0.45212721824645996),\n",
       " ('meters', 0.44067248702049255),\n",
       " ('towering', 0.42784252762794495),\n",
       " ('centimeters', 0.4234543442726135),\n",
       " ('inches', 0.4174586832523346),\n",
       " ('erect', 0.4087314009666443)]"
      ]
     },
     "execution_count": 14,
     "metadata": {},
     "output_type": "execute_result"
    }
   ],
   "source": [
    "# best - good + tall\n",
    "glove.most_similar(positive=[\"best\", \"tall\"], negative=[\"good\"])"
   ]
  },
  {
   "cell_type": "markdown",
   "id": "82403941",
   "metadata": {},
   "source": [
    "## Looking under the hood\n",
    "\n",
    "Now that we are more familiar with the [`most_similar()`](https://radimrehurek.com/gensim/models/keyedvectors.html#gensim.models.keyedvectors.KeyedVectors.most_similar) method, it is time to implement its functionality ourselves.\n",
    "But first, we need to take a look at the different parts of the [`KeyedVectors`](https://radimrehurek.com/gensim/models/keyedvectors.html) object that we will need.\n",
    "Obviously, we will need the vectors themselves. They are stored in the `vectors` attribute."
   ]
  },
  {
   "cell_type": "code",
   "execution_count": 15,
   "id": "153802bd",
   "metadata": {},
   "outputs": [
    {
     "data": {
      "text/plain": [
       "(400000, 300)"
      ]
     },
     "execution_count": 15,
     "metadata": {},
     "output_type": "execute_result"
    }
   ],
   "source": [
    "glove.vectors.shape"
   ]
  },
  {
   "cell_type": "markdown",
   "id": "fc372d2e",
   "metadata": {},
   "source": [
    "As we can see above, `vectors` is a 2-dimensional matrix with 400,000 rows and 300 columns.\n",
    "Each row corresponds to a 300-dimensional word embedding. These embeddings are not normalized, but normalized embeddings can be obtained using the [`get_normed_vectors()`](https://radimrehurek.com/gensim/models/keyedvectors.html#gensim.models.keyedvectors.KeyedVectors.get_normed_vectors) method."
   ]
  },
  {
   "cell_type": "code",
   "execution_count": 16,
   "id": "2d61d4e2",
   "metadata": {},
   "outputs": [
    {
     "data": {
      "text/plain": [
       "(400000, 300)"
      ]
     },
     "execution_count": 16,
     "metadata": {},
     "output_type": "execute_result"
    }
   ],
   "source": [
    "normed_vectors = glove.get_normed_vectors()\n",
    "normed_vectors.shape"
   ]
  },
  {
   "cell_type": "markdown",
   "id": "24407ad7",
   "metadata": {},
   "source": [
    "Now we need to map the words in the vocabulary to rows in the `vectors` matrix, and vice versa.\n",
    "The [`KeyedVectors`](https://radimrehurek.com/gensim/models/keyedvectors.html) object has the attributes `index_to_key` and `key_to_index` which are a list of words and a dictionary of words to indices, respectively."
   ]
  },
  {
   "cell_type": "code",
   "execution_count": 17,
   "id": "9280e88c",
   "metadata": {},
   "outputs": [],
   "source": [
    "#glove.index_to_key"
   ]
  },
  {
   "cell_type": "code",
   "execution_count": 18,
   "id": "4695b181",
   "metadata": {},
   "outputs": [],
   "source": [
    "#glove.key_to_index"
   ]
  },
  {
   "cell_type": "markdown",
   "id": "2ef07a09",
   "metadata": {},
   "source": [
    "## Word similarity from scratch\n",
    "\n",
    "Now we have everything we need to implement a `most_similar_words()` function that takes a word, the vector matrix, the `index_to_key` list, and the `key_to_index` dictionary. This function will return the 10 most similar words to the provided word, along with their similarity scores."
   ]
  },
  {
   "cell_type": "code",
   "execution_count": 19,
   "id": "054b3aec",
   "metadata": {},
   "outputs": [],
   "source": [
    "import numpy as np\n",
    "from transformers import AutoTokenizer, AutoModel\n",
    "import torch\n",
    "\n",
    "# Load tokenizer and model\n",
    "tokenizer = AutoTokenizer.from_pretrained('bert-base-uncased')\n",
    "model = AutoModel.from_pretrained('bert-base-uncased')\n",
    "\n",
    "def compute_word_embeddings(vocab_file, model, tokenizer):\n",
    "    \"\"\"\n",
    "    Compute word embeddings by averaging token embeddings.\n",
    "    \"\"\"\n",
    "    word_embeddings = {}\n",
    "    with open(vocab_file, 'r') as f:\n",
    "        for line in f:\n",
    "            word = line.strip()\n",
    "            # Tokenize word\n",
    "            tokens = tokenizer(word, return_tensors='pt', add_special_tokens=False)\n",
    "            token_ids = tokens['input_ids'][0]\n",
    "            \n",
    "            # Get embeddings for tokens\n",
    "            with torch.no_grad():\n",
    "                outputs = model(**tokens)\n",
    "                embeddings = outputs.last_hidden_state[0]  # Shape: (num_tokens, hidden_size)\n",
    "            \n",
    "            # Average token embeddings to form word embedding\n",
    "            word_embedding = embeddings.mean(dim=0).numpy()\n",
    "            word_embeddings[word] = word_embedding\n",
    "    \n",
    "    return word_embeddings\n",
    "\n",
    "def most_similar_words(word, word_embeddings, topn=10):\n",
    "    \"\"\"\n",
    "    Find the most similar words to the given word based on cosine similarity.\n",
    "    \"\"\"\n",
    "    if word not in word_embeddings:\n",
    "        raise ValueError(f\"Word '{word}' not in the vocabulary.\")\n",
    "    \n",
    "    word_vec = word_embeddings[word]\n",
    "    all_words = list(word_embeddings.keys())\n",
    "    all_vectors = np.array(list(word_embeddings.values()))\n",
    "    \n",
    "    # Compute cosine similarities\n",
    "    similarities = all_vectors @ word_vec / (np.linalg.norm(all_vectors, axis=1) * np.linalg.norm(word_vec))\n",
    "    \n",
    "    # Sort by similarity\n",
    "    most_similar_indices = np.argsort(similarities)[::-1][:topn + 1]\n",
    "    most_similar_words = [(all_words[i], similarities[i]) for i in most_similar_indices if all_words[i] != word]\n",
    "    \n",
    "    return most_similar_words[:topn]\n",
    "\n",
    "# Compute word embeddings\n",
    "vocab_file = \"glove.6B.300d-vocabulary.txt\"\n",
    "word_embeddings = compute_word_embeddings(vocab_file, model, tokenizer)\n",
    "\n",
    "# Run examples\n",
    "examples = ['king', 'queen', 'man', 'woman', 'apple', 'banana']\n",
    "results = {}\n",
    "for example in examples:\n",
    "    results[example] = most_similar_words(example, word_embeddings)\n",
    "\n",
    "# Display results\n",
    "for word, similar in results.items():\n",
    "    print(f\"Most similar to '{word}':\")\n",
    "    for sim_word, score in similar:\n",
    "        print(f\"  {sim_word}: {score:.4f}\")\n",
    "    print()\n"
   ]
  },
  {
   "cell_type": "markdown",
   "id": "bbad469a",
   "metadata": {},
   "source": [
    "Now let's try the same example that we used above: the most similar words to \"cactus\"."
   ]
  },
  {
   "cell_type": "code",
   "execution_count": 20,
   "id": "8fea29a1",
   "metadata": {},
   "outputs": [
    {
     "data": {
      "text/plain": [
       "[('cacti', 0.6634565),\n",
       " ('saguaro', 0.6195854),\n",
       " ('pear', 0.5233487),\n",
       " ('cactuses', 0.5178282),\n",
       " ('prickly', 0.51563185),\n",
       " ('mesquite', 0.48448554),\n",
       " ('opuntia', 0.45400843),\n",
       " ('shrubs', 0.45362067),\n",
       " ('peyote', 0.4534496),\n",
       " ('succulents', 0.45127875)]"
      ]
     },
     "execution_count": 20,
     "metadata": {},
     "output_type": "execute_result"
    }
   ],
   "source": [
    "vectors = glove.get_normed_vectors()\n",
    "index_to_key = glove.index_to_key\n",
    "key_to_index = glove.key_to_index\n",
    "most_similar_words(\"cactus\", vectors, index_to_key, key_to_index)"
   ]
  },
  {
   "cell_type": "markdown",
   "id": "12bfd0c3",
   "metadata": {},
   "source": [
    "## Analogies from scratch\n",
    "\n",
    "The `most_similar_words()` function behaves as expected. Now let's implement a function to perform the analogy task. We will give it the very creative name `analogy`. This function will get two lists of words (one for positive words and one for negative words), just like the [`most_similar()`](https://radimrehurek.com/gensim/models/keyedvectors.html#gensim.models.keyedvectors.KeyedVectors.most_similar) method we discussed above."
   ]
  },
  {
   "cell_type": "code",
   "execution_count": 21,
   "id": "6b64cdc8",
   "metadata": {},
   "outputs": [],
   "source": [
    "from numpy.linalg import norm\n",
    "\n",
    "def analogy(positive, negative, vectors, index_to_key, key_to_index, topn=10):\n",
    "    # find ids for positive and negative words\n",
    "    pos_ids = [key_to_index[w] for w in positive]\n",
    "    neg_ids = [key_to_index[w] for w in negative]\n",
    "    given_word_ids = pos_ids + neg_ids\n",
    "    # get embeddings for positive and negative words\n",
    "    pos_emb = vectors[pos_ids].sum(axis=0)\n",
    "    neg_emb = vectors[neg_ids].sum(axis=0)\n",
    "    # get embedding for analogy\n",
    "    emb = pos_emb - neg_emb\n",
    "    # normalize embedding\n",
    "    emb = emb / norm(emb)\n",
    "    # calculate similarities to all words in out vocabulary\n",
    "    similarities = vectors @ emb\n",
    "    # get word_ids in ascending order with respect to similarity score\n",
    "    ids_ascending = similarities.argsort()\n",
    "    # reverse word_ids\n",
    "    ids_descending = ids_ascending[::-1]\n",
    "    # get boolean array with element corresponding to any of given_word_ids set to false\n",
    "    given_words_mask = np.isin(ids_descending, given_word_ids, invert=True)\n",
    "    # obtain new array of indices that doesn't contain any of the given_word_ids\n",
    "    ids_descending = ids_descending[given_words_mask]\n",
    "    # get topn word_ids\n",
    "    top_ids = ids_descending[:topn]\n",
    "    # retrieve topn words with their corresponding similarity score\n",
    "    top_words = [(index_to_key[i], similarities[i]) for i in top_ids]\n",
    "    # return results\n",
    "    return top_words"
   ]
  },
  {
   "cell_type": "markdown",
   "id": "39a9cff3",
   "metadata": {},
   "source": [
    "Let's try this function with the $\\vec{king} - \\vec{man} + \\vec{woman} \\approx \\vec{queen}$ example we discussed above."
   ]
  },
  {
   "cell_type": "code",
   "execution_count": 22,
   "id": "a3c103f3",
   "metadata": {},
   "outputs": [
    {
     "data": {
      "text/plain": [
       "[('queen', 0.67132765),\n",
       " ('princess', 0.5432624),\n",
       " ('throne', 0.53861046),\n",
       " ('monarch', 0.5347575),\n",
       " ('daughter', 0.4980251),\n",
       " ('mother', 0.49564427),\n",
       " ('elizabeth', 0.48326522),\n",
       " ('kingdom', 0.47747084),\n",
       " ('prince', 0.466824),\n",
       " ('wife', 0.46473268)]"
      ]
     },
     "execution_count": 22,
     "metadata": {},
     "output_type": "execute_result"
    }
   ],
   "source": [
    "positive = [\"king\", \"woman\"]\n",
    "negative = [\"man\"]\n",
    "vectors = glove.get_normed_vectors()\n",
    "index_to_key = glove.index_to_key\n",
    "key_to_index = glove.key_to_index\n",
    "analogy(positive, negative, vectors, index_to_key, key_to_index)"
   ]
  },
  {
   "cell_type": "code",
   "execution_count": null,
   "id": "1d81ff25",
   "metadata": {},
   "outputs": [],
   "source": []
  }
 ],
 "metadata": {
  "kernelspec": {
   "display_name": "Python 3 (ipykernel)",
   "language": "python",
   "name": "python3"
  },
  "language_info": {
   "codemirror_mode": {
    "name": "ipython",
    "version": 3
   },
   "file_extension": ".py",
   "mimetype": "text/x-python",
   "name": "python",
   "nbconvert_exporter": "python",
   "pygments_lexer": "ipython3",
   "version": "3.11.8"
  }
 },
 "nbformat": 4,
 "nbformat_minor": 5
}
